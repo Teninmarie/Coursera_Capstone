{
    "nbformat_minor": 1, 
    "cells": [
        {
            "source": "## 1. Introduction", 
            "cell_type": "markdown", 
            "metadata": {}
        }, 
        {
            "source": "\n![alt text](http://www.payvand.com/news/09/jan/Pars-Grill-House2.jpg)\n", 
            "cell_type": "markdown", 
            "metadata": {}
        }, 
        {
            "source": "### 1.1 Problem Statement", 
            "cell_type": "markdown", 
            "metadata": {}
        }, 
        {
            "source": "A client wants to open his first restaurant in the city of Toronto. He would like me to know where he has more chance to succeed to his new business ", 
            "cell_type": "markdown", 
            "metadata": {
                "collapsed": true
            }
        }, 
        {
            "source": "### 1.2 Background", 
            "cell_type": "markdown", 
            "metadata": {}
        }, 
        {
            "source": "My client is originally from Iran and new in Canada. He decided to live in Toronto and try to find the best place to open a food business He wants to offer iranian speciatities to his customers. He is a chef so do not fear about the quality of his cuisine. As a new immigrant, he does not know the habits of people and does not want to be in a area where the competition is too high. He always want to commute easily to work so do not be at more than 1 hour to his work location. One of his concern is not be close to the best iranian cuisine around the city. For one, it does not take the rental price has in consideration so the financial aspect will not be considered for the study.\nToronto is a big city and we can find easily cuisine specialities coming around the world so open a new business needs a real data analysis to not do a bad investment.", 
            "cell_type": "markdown", 
            "metadata": {}
        }, 
        {
            "source": "### 1.3 Data", 
            "cell_type": "markdown", 
            "metadata": {}
        }, 
        {
            "source": "- StatCan or wiki to get the iranian population living in Toronto, if possible breakind down per Borough\n- Use the client location and Foursquare to search the iranian/ persian restarant\n- use the demography of Toronto per Borough to analyze where it is more possible to establish a new business", 
            "cell_type": "markdown", 
            "metadata": {}
        }, 
        {
            "source": "### 1.4 Methodology", 
            "cell_type": "markdown", 
            "metadata": {}
        }
    ], 
    "metadata": {
        "kernelspec": {
            "display_name": "Python 3.6", 
            "name": "python3", 
            "language": "python"
        }, 
        "language_info": {
            "mimetype": "text/x-python", 
            "nbconvert_exporter": "python", 
            "version": "3.6.8", 
            "name": "python", 
            "file_extension": ".py", 
            "pygments_lexer": "ipython3", 
            "codemirror_mode": {
                "version": 3, 
                "name": "ipython"
            }
        }
    }, 
    "nbformat": 4
}